{
 "cells": [
  {
   "cell_type": "code",
   "execution_count": 15,
   "metadata": {},
   "outputs": [],
   "source": [
    "import os\n",
    "from tifffile import imread\n",
    "import numpy as np\n",
    "from skimage.measure import regionprops_table\n",
    "import pandas as pd "
   ]
  },
  {
   "cell_type": "code",
   "execution_count": 1,
   "metadata": {},
   "outputs": [
    {
     "ename": "NameError",
     "evalue": "name 'os' is not defined",
     "output_type": "error",
     "traceback": [
      "\u001b[0;31m---------------------------------------------------------------------------\u001b[0m",
      "\u001b[0;31mNameError\u001b[0m                                 Traceback (most recent call last)",
      "Cell \u001b[0;32mIn[1], line 11\u001b[0m\n\u001b[1;32m      2\u001b[0m image_store_dir \u001b[38;5;241m=\u001b[39m \u001b[38;5;124mr\u001b[39m\u001b[38;5;124m'\u001b[39m\u001b[38;5;124m'\u001b[39m\n\u001b[1;32m      4\u001b[0m channels \u001b[38;5;241m=\u001b[39m {\u001b[38;5;124m'\u001b[39m\u001b[38;5;124mDAPI\u001b[39m\u001b[38;5;124m'\u001b[39m: \u001b[38;5;124m'\u001b[39m\u001b[38;5;124mDAPI\u001b[39m\u001b[38;5;124m'\u001b[39m,         \n\u001b[1;32m      5\u001b[0m             \u001b[38;5;124m'\u001b[39m\u001b[38;5;124mAF-488\u001b[39m\u001b[38;5;124m'\u001b[39m: \u001b[38;5;124m'\u001b[39m\u001b[38;5;124mEdU\u001b[39m\u001b[38;5;124m'\u001b[39m,\n\u001b[1;32m      6\u001b[0m             \u001b[38;5;66;03m#'AF-555': '',\u001b[39;00m\n\u001b[1;32m      7\u001b[0m             \u001b[38;5;66;03m#'AF-647': '',\u001b[39;00m\n\u001b[1;32m      8\u001b[0m             \u001b[38;5;66;03m#'AF-750': ''\u001b[39;00m\n\u001b[1;32m      9\u001b[0m             }\n\u001b[0;32m---> 11\u001b[0m dir_contents \u001b[38;5;241m=\u001b[39m [x \u001b[38;5;28;01mfor\u001b[39;00m x \u001b[38;5;129;01min\u001b[39;00m \u001b[43mos\u001b[49m\u001b[38;5;241m.\u001b[39mlistdir(image_store_dir) \u001b[38;5;28;01mif\u001b[39;00m os\u001b[38;5;241m.\u001b[39mpath\u001b[38;5;241m.\u001b[39misdir(os\u001b[38;5;241m.\u001b[39mpath\u001b[38;5;241m.\u001b[39mjoin(image_store_dir,x))]\n\u001b[1;32m     12\u001b[0m \u001b[38;5;28mprint\u001b[39m(dir_contents)\n",
      "\u001b[0;31mNameError\u001b[0m: name 'os' is not defined"
     ]
    }
   ],
   "source": [
    "# Input final saving directory\n",
    "image_store_dir = r''\n",
    "\n",
    "channels = {'DAPI': 'DAPI',         \n",
    "            #'AF-488': '',\n",
    "            #'AF-555': '',\n",
    "            #'AF-647': '',\n",
    "            #'AF-750': ''\n",
    "            }\n",
    "\n",
    "dir_contents = [x for x in os.listdir(image_store_dir) if os.path.isdir(os.path.join(image_store_dir,x))]\n",
    "print(dir_contents)"
   ]
  },
  {
   "cell_type": "code",
   "execution_count": 19,
   "metadata": {},
   "outputs": [
    {
     "name": "stdout",
     "output_type": "stream",
     "text": [
      "oc3-cbpp\n",
      "berzosertib\n",
      "\toc3-cbpp_A-berzosertib.ome.tif\n",
      "\t\tImages + Masks Read.\n"
     ]
    },
    {
     "name": "stderr",
     "output_type": "stream",
     "text": [
      "C:\\Users\\Stallab\\AppData\\Local\\Temp\\ipykernel_47992\\371658197.py:48: FutureWarning: The behavior of DataFrame concatenation with empty or all-NA entries is deprecated. In a future version, this will no longer exclude empty or all-NA columns when determining the result dtypes. To retain the old behavior, exclude the relevant entries before the concat operation.\n",
      "  base_df = pd.concat([base_df,image_df])\n"
     ]
    },
    {
     "name": "stdout",
     "output_type": "stream",
     "text": [
      "\toc3-cbpp_B-berzosertib.ome.tif\n",
      "\t\tImages + Masks Read.\n",
      "\toc3-cbpp_C-berzosertib.ome.tif\n",
      "\t\tImages + Masks Read.\n",
      "\toc3-cbpp_D-berzosertib.ome.tif\n",
      "\t\tImages + Masks Read.\n",
      "\toc3-cbpp_E-berzosertib.ome.tif\n",
      "\t\tImages + Masks Read.\n",
      "\toc3-cbpp_F-berzosertib.ome.tif\n",
      "\t\tImages + Masks Read.\n",
      "\toc3-cbpp_G-berzosertib.ome.tif\n",
      "\t\tImages + Masks Read.\n",
      "\toc3-cbpp_H-berzosertib.ome.tif\n",
      "\t\tImages + Masks Read.\n",
      "cvt\n",
      "\toc3-cbpp_A-cvt.ome.tif\n",
      "\t\tImages + Masks Read.\n"
     ]
    },
    {
     "name": "stderr",
     "output_type": "stream",
     "text": [
      "C:\\Users\\Stallab\\AppData\\Local\\Temp\\ipykernel_47992\\371658197.py:48: FutureWarning: The behavior of DataFrame concatenation with empty or all-NA entries is deprecated. In a future version, this will no longer exclude empty or all-NA columns when determining the result dtypes. To retain the old behavior, exclude the relevant entries before the concat operation.\n",
      "  base_df = pd.concat([base_df,image_df])\n"
     ]
    },
    {
     "name": "stdout",
     "output_type": "stream",
     "text": [
      "\toc3-cbpp_B-cvt.ome.tif\n",
      "\t\tImages + Masks Read.\n",
      "\toc3-cbpp_C-cvt.ome.tif\n",
      "\t\tImages + Masks Read.\n",
      "\toc3-cbpp_D-cvt.ome.tif\n",
      "\t\tImages + Masks Read.\n",
      "\toc3-cbpp_E-cvt.ome.tif\n",
      "\t\tImages + Masks Read.\n",
      "\toc3-cbpp_F-cvt.ome.tif\n",
      "\t\tImages + Masks Read.\n",
      "\toc3-cbpp_G-cvt.ome.tif\n",
      "\t\tImages + Masks Read.\n",
      "\toc3-cbpp_H-cvt.ome.tif\n",
      "\t\tImages + Masks Read.\n",
      "pf\n",
      "\toc3-cbpp_A-pf.ome.tif\n",
      "\t\tImages + Masks Read.\n"
     ]
    },
    {
     "name": "stderr",
     "output_type": "stream",
     "text": [
      "C:\\Users\\Stallab\\AppData\\Local\\Temp\\ipykernel_47992\\371658197.py:48: FutureWarning: The behavior of DataFrame concatenation with empty or all-NA entries is deprecated. In a future version, this will no longer exclude empty or all-NA columns when determining the result dtypes. To retain the old behavior, exclude the relevant entries before the concat operation.\n",
      "  base_df = pd.concat([base_df,image_df])\n"
     ]
    },
    {
     "name": "stdout",
     "output_type": "stream",
     "text": [
      "\toc3-cbpp_B-pf.ome.tif\n",
      "\t\tImages + Masks Read.\n",
      "\toc3-cbpp_C-pf.ome.tif\n",
      "\t\tImages + Masks Read.\n",
      "\toc3-cbpp_D-pf.ome.tif\n",
      "\t\tImages + Masks Read.\n",
      "\toc3-cbpp_E-pf.ome.tif\n",
      "\t\tImages + Masks Read.\n",
      "\toc3-cbpp_F-pf.ome.tif\n",
      "\t\tImages + Masks Read.\n",
      "\toc3-cbpp_G-pf.ome.tif\n",
      "\t\tImages + Masks Read.\n",
      "\toc3-cbpp_H-pf.ome.tif\n",
      "\t\tImages + Masks Read.\n",
      "palbociclib\n",
      "\toc3-cbpp_A-palbociclib.ome.tif\n",
      "\t\tImages + Masks Read.\n"
     ]
    },
    {
     "name": "stderr",
     "output_type": "stream",
     "text": [
      "C:\\Users\\Stallab\\AppData\\Local\\Temp\\ipykernel_47992\\371658197.py:48: FutureWarning: The behavior of DataFrame concatenation with empty or all-NA entries is deprecated. In a future version, this will no longer exclude empty or all-NA columns when determining the result dtypes. To retain the old behavior, exclude the relevant entries before the concat operation.\n",
      "  base_df = pd.concat([base_df,image_df])\n"
     ]
    },
    {
     "name": "stdout",
     "output_type": "stream",
     "text": [
      "\toc3-cbpp_B-palbociclib.ome.tif\n",
      "\t\tImages + Masks Read.\n",
      "\toc3-cbpp_C-palbociclib.ome.tif\n",
      "\t\tImages + Masks Read.\n",
      "\toc3-cbpp_D-palbociclib.ome.tif\n",
      "\t\tImages + Masks Read.\n",
      "\toc3-cbpp_E-palbociclib.ome.tif\n",
      "\t\tImages + Masks Read.\n",
      "\toc3-cbpp_F-palbociclib.ome.tif\n",
      "\t\tImages + Masks Read.\n",
      "\toc3-cbpp_G-palbociclib.ome.tif\n",
      "\t\tImages + Masks Read.\n",
      "\toc3-cbpp_H-palbociclib.ome.tif\n",
      "\t\tImages + Masks Read.\n",
      "oc3-coar\n",
      "berzosertib\n",
      "cvt\n",
      "pf\n",
      "palbociclib\n",
      "oc8-cbpp\n",
      "berzosertib\n",
      "cvt\n",
      "pf\n",
      "palbociclib\n",
      "oc8-coar\n",
      "berzosertib\n",
      "cvt\n",
      "pf\n",
      "palbociclib\n"
     ]
    }
   ],
   "source": [
    "condition_list = []\n",
    "\n",
    "# Iterate through folders in dir_contents\n",
    "for folder in dir_contents:\n",
    "    print(folder)\n",
    "    folder_dir = os.path.join(image_store_dir,folder)\n",
    "\n",
    "    ims = [x for x in os.listdir(folder_dir) if '.ome.tif' in x]\n",
    "\n",
    "    ## Iterate through treatment conditions/drugs\n",
    "    # Each unique drug will have data stored in its own CSV.\n",
    "    for cond in condition_list:\n",
    "        print(cond)\n",
    "        cond_image_list = [x for x in ims if cond in x]\n",
    "\n",
    "        # Generate CSV name\n",
    "        csv_path = os.path.join('R:\\data_analysis\\Tyler\\hgsc\\data\\hgsc-full-r2\\oc3-cbpp',cond+'.csv')\n",
    "\n",
    "        base_made = False   # base-- first iteration of DF \n",
    "        for image in cond_image_list:\n",
    "            print(f'\\t{image}')\n",
    "\n",
    "            im_path = os.path.join(folder_dir,image)\n",
    "            mask_path = im_path.replace('.ome','_segmented')\n",
    "\n",
    "            # If image does not have a fluoresence image OR segmented mask, skip it\n",
    "            if not os.path.isfile(im_path) or not os.path.isfile(mask_path): continue\n",
    "\n",
    "            im = imread(im_path)\n",
    "            mask = imread(mask_path)\n",
    "            print('\\t\\tImages + Masks Read.')\n",
    "\n",
    "            # Generate image-specific dataframe with basic information\n",
    "            image_df = pd.DataFrame(regionprops_table(mask,properties=['label','area']))\n",
    "\n",
    "            # Iterate through channels to quantify each.\n",
    "            for ind,channel in channels.keys():\n",
    "                image_df[f'{channels[channel]}-mean'] = regionprops_table(mask,     # Generate regionprops_table with a given mask\n",
    "                        intensity_image=im[ind],                                    # ... Using a given intensity image\n",
    "                        properties=['intensity_mean'])['intensity_mean']            # ... Only including the 'intensity_mean' column\n",
    "\n",
    "            # Add identifying data for each cell line\n",
    "            image_df['n#'] = image_store_dir[-2:]\n",
    "            image_df['cell line'] = folder.split('-')[0]\n",
    "            image_df['drug'] = cond\n",
    "            image_df['condition'] = image.split('_')[1].split('-')[0]\n",
    "\n",
    "            # If base DF not already made, make it before concatenating dataframes\n",
    "            if base_made == False:\n",
    "                base_made=True\n",
    "\n",
    "                columns_for_df = ['n#','cell line','drug','condition','label','area']\n",
    "                for channel in channels.keys():\n",
    "                    ab = channels[channel]\n",
    "                    columns_for_df.append(f'{ab}-mean')\n",
    "\n",
    "                base_df = pd.DataFrame(columns=columns_for_df)\n",
    "\n",
    "            base_df = pd.concat([base_df,image_df])\n",
    "\n",
    "        # CSV saves after \n",
    "        base_df.to_csv(csv_path)"
   ]
  }
 ],
 "metadata": {
  "kernelspec": {
   "display_name": "napari-env-gpu",
   "language": "python",
   "name": "python3"
  },
  "language_info": {
   "codemirror_mode": {
    "name": "ipython",
    "version": 3
   },
   "file_extension": ".py",
   "mimetype": "text/x-python",
   "name": "python",
   "nbconvert_exporter": "python",
   "pygments_lexer": "ipython3",
   "version": "3.11.8"
  }
 },
 "nbformat": 4,
 "nbformat_minor": 2
}
